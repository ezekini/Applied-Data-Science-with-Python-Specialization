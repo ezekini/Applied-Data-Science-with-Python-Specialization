{
 "cells": [
  {
   "cell_type": "markdown",
   "metadata": {
    "button": false,
    "deletable": true,
    "new_sheet": false,
    "run_control": {
     "read_only": false
    }
   },
   "source": [
    "# Creating a feature matrix from a networkx graph\n",
    "\n",
    "In this notebook we will look at a few ways to quickly create a feature matrix from a networkx graph."
   ]
  },
  {
   "cell_type": "code",
   "execution_count": 2,
   "metadata": {
    "button": false,
    "collapsed": true,
    "deletable": true,
    "new_sheet": false,
    "run_control": {
     "read_only": false
    }
   },
   "outputs": [],
   "source": [
    "import networkx as nx\n",
    "import pandas as pd\n",
    "\n",
    "G = nx.read_gpickle('major_us_cities')"
   ]
  },
  {
   "cell_type": "markdown",
   "metadata": {
    "button": false,
    "deletable": true,
    "new_sheet": false,
    "run_control": {
     "read_only": false
    }
   },
   "source": [
    "## Node based features"
   ]
  },
  {
   "cell_type": "code",
   "execution_count": 3,
   "metadata": {
    "button": false,
    "collapsed": false,
    "deletable": true,
    "new_sheet": false,
    "run_control": {
     "read_only": false
    },
    "scrolled": true
   },
   "outputs": [
    {
     "data": {
      "text/plain": [
       "[('Dallas, TX', {'location': (-96, 32), 'population': 1257676}),\n",
       " ('Tulsa, OK', {'location': (-95, 36), 'population': 398121}),\n",
       " ('Las Vegas, NV', {'location': (-115, 36), 'population': 603488}),\n",
       " ('Mesa, AZ', {'location': (-111, 33), 'population': 457587}),\n",
       " ('Virginia Beach, VA', {'location': (-75, 36), 'population': 448479}),\n",
       " ('Phoenix, AZ', {'location': (-112, 33), 'population': 1513367}),\n",
       " ('Raleigh, NC', {'location': (-78, 35), 'population': 431746}),\n",
       " ('San Jose, CA', {'location': (-121, 37), 'population': 998537}),\n",
       " ('Washington D.C.', {'location': (-77, 38), 'population': 646449}),\n",
       " ('Sacramento, CA', {'location': (-121, 38), 'population': 479686})]"
      ]
     },
     "execution_count": 3,
     "metadata": {},
     "output_type": "execute_result"
    }
   ],
   "source": [
    "G.nodes(data=True)[:10]"
   ]
  },
  {
   "cell_type": "code",
   "execution_count": 6,
   "metadata": {
    "button": false,
    "collapsed": true,
    "deletable": true,
    "new_sheet": false,
    "run_control": {
     "read_only": false
    }
   },
   "outputs": [],
   "source": [
    "# Initialize the dataframe, using the nodes as the index\n",
    "df = pd.DataFrame(index=G.nodes())"
   ]
  },
  {
   "cell_type": "markdown",
   "metadata": {
    "button": false,
    "deletable": true,
    "new_sheet": false,
    "run_control": {
     "read_only": false
    }
   },
   "source": [
    "### Extracting attributes\n",
    "\n",
    "Using `nx.get_node_attributes` it's easy to extract the node attributes in the graph into DataFrame columns."
   ]
  },
  {
   "cell_type": "code",
   "execution_count": 7,
   "metadata": {
    "button": false,
    "collapsed": false,
    "deletable": true,
    "new_sheet": false,
    "run_control": {
     "read_only": false
    }
   },
   "outputs": [
    {
     "data": {
      "text/html": [
       "<div>\n",
       "<table border=\"1\" class=\"dataframe\">\n",
       "  <thead>\n",
       "    <tr style=\"text-align: right;\">\n",
       "      <th></th>\n",
       "      <th>location</th>\n",
       "      <th>population</th>\n",
       "    </tr>\n",
       "  </thead>\n",
       "  <tbody>\n",
       "    <tr>\n",
       "      <th>Dallas, TX</th>\n",
       "      <td>(-96, 32)</td>\n",
       "      <td>1257676</td>\n",
       "    </tr>\n",
       "    <tr>\n",
       "      <th>Tulsa, OK</th>\n",
       "      <td>(-95, 36)</td>\n",
       "      <td>398121</td>\n",
       "    </tr>\n",
       "    <tr>\n",
       "      <th>Las Vegas, NV</th>\n",
       "      <td>(-115, 36)</td>\n",
       "      <td>603488</td>\n",
       "    </tr>\n",
       "    <tr>\n",
       "      <th>Mesa, AZ</th>\n",
       "      <td>(-111, 33)</td>\n",
       "      <td>457587</td>\n",
       "    </tr>\n",
       "    <tr>\n",
       "      <th>Virginia Beach, VA</th>\n",
       "      <td>(-75, 36)</td>\n",
       "      <td>448479</td>\n",
       "    </tr>\n",
       "  </tbody>\n",
       "</table>\n",
       "</div>"
      ],
      "text/plain": [
       "                      location  population\n",
       "Dallas, TX           (-96, 32)     1257676\n",
       "Tulsa, OK            (-95, 36)      398121\n",
       "Las Vegas, NV       (-115, 36)      603488\n",
       "Mesa, AZ            (-111, 33)      457587\n",
       "Virginia Beach, VA   (-75, 36)      448479"
      ]
     },
     "execution_count": 7,
     "metadata": {},
     "output_type": "execute_result"
    }
   ],
   "source": [
    "df['location'] = pd.Series(nx.get_node_attributes(G, 'location'))\n",
    "df['population'] = pd.Series(nx.get_node_attributes(G, 'population'))\n",
    "\n",
    "df.head()"
   ]
  },
  {
   "cell_type": "markdown",
   "metadata": {
    "button": false,
    "deletable": true,
    "new_sheet": false,
    "run_control": {
     "read_only": false
    }
   },
   "source": [
    "### Creating node based features\n",
    "\n",
    "Most of the networkx functions related to nodes return a dictionary, which can also easily be added to our dataframe."
   ]
  },
  {
   "cell_type": "code",
   "execution_count": 8,
   "metadata": {
    "button": false,
    "collapsed": false,
    "deletable": true,
    "new_sheet": false,
    "run_control": {
     "read_only": false
    },
    "scrolled": true
   },
   "outputs": [
    {
     "data": {
      "text/html": [
       "<div>\n",
       "<table border=\"1\" class=\"dataframe\">\n",
       "  <thead>\n",
       "    <tr style=\"text-align: right;\">\n",
       "      <th></th>\n",
       "      <th>location</th>\n",
       "      <th>population</th>\n",
       "      <th>clustering</th>\n",
       "      <th>degree</th>\n",
       "    </tr>\n",
       "  </thead>\n",
       "  <tbody>\n",
       "    <tr>\n",
       "      <th>Dallas, TX</th>\n",
       "      <td>(-96, 32)</td>\n",
       "      <td>1257676</td>\n",
       "      <td>0.763636</td>\n",
       "      <td>11</td>\n",
       "    </tr>\n",
       "    <tr>\n",
       "      <th>Tulsa, OK</th>\n",
       "      <td>(-95, 36)</td>\n",
       "      <td>398121</td>\n",
       "      <td>0.727273</td>\n",
       "      <td>11</td>\n",
       "    </tr>\n",
       "    <tr>\n",
       "      <th>Las Vegas, NV</th>\n",
       "      <td>(-115, 36)</td>\n",
       "      <td>603488</td>\n",
       "      <td>0.666667</td>\n",
       "      <td>12</td>\n",
       "    </tr>\n",
       "    <tr>\n",
       "      <th>Mesa, AZ</th>\n",
       "      <td>(-111, 33)</td>\n",
       "      <td>457587</td>\n",
       "      <td>0.750000</td>\n",
       "      <td>8</td>\n",
       "    </tr>\n",
       "    <tr>\n",
       "      <th>Virginia Beach, VA</th>\n",
       "      <td>(-75, 36)</td>\n",
       "      <td>448479</td>\n",
       "      <td>0.861111</td>\n",
       "      <td>9</td>\n",
       "    </tr>\n",
       "  </tbody>\n",
       "</table>\n",
       "</div>"
      ],
      "text/plain": [
       "                      location  population  clustering  degree\n",
       "Dallas, TX           (-96, 32)     1257676    0.763636      11\n",
       "Tulsa, OK            (-95, 36)      398121    0.727273      11\n",
       "Las Vegas, NV       (-115, 36)      603488    0.666667      12\n",
       "Mesa, AZ            (-111, 33)      457587    0.750000       8\n",
       "Virginia Beach, VA   (-75, 36)      448479    0.861111       9"
      ]
     },
     "execution_count": 8,
     "metadata": {},
     "output_type": "execute_result"
    }
   ],
   "source": [
    "df['clustering'] = pd.Series(nx.clustering(G))\n",
    "df['degree'] = pd.Series(G.degree())\n",
    "\n",
    "df.head()"
   ]
  },
  {
   "cell_type": "markdown",
   "metadata": {
    "button": false,
    "deletable": true,
    "new_sheet": false,
    "run_control": {
     "read_only": false
    }
   },
   "source": [
    "# Edge based features"
   ]
  },
  {
   "cell_type": "code",
   "execution_count": 9,
   "metadata": {
    "button": false,
    "collapsed": false,
    "deletable": true,
    "new_sheet": false,
    "run_control": {
     "read_only": false
    }
   },
   "outputs": [
    {
     "data": {
      "text/plain": [
       "[('Dallas, TX', 'Fort Worth, TX', {'weight': 49.93359898977102}),\n",
       " ('Dallas, TX', 'Oklahoma City, OK', {'weight': 306.2597807397289}),\n",
       " ('Dallas, TX', 'Tulsa, OK', {'weight': 382.46410800205336}),\n",
       " ('Dallas, TX', 'San Antonio, TX', {'weight': 406.0065656782324}),\n",
       " ('Dallas, TX', 'Memphis, TN', {'weight': 675.3316242841653}),\n",
       " ('Dallas, TX', 'Wichita, KS', {'weight': 548.0572491959326}),\n",
       " ('Dallas, TX', 'Arlington, TX', {'weight': 29.425931317908415}),\n",
       " ('Dallas, TX', 'Houston, TX', {'weight': 361.54185907832755}),\n",
       " ('Dallas, TX', 'New Orleans, LA', {'weight': 711.0141469371868}),\n",
       " ('Dallas, TX', 'Kansas City, MO', {'weight': 730.377587942699})]"
      ]
     },
     "execution_count": 9,
     "metadata": {},
     "output_type": "execute_result"
    }
   ],
   "source": [
    "G.edges(data=True)[:10]"
   ]
  },
  {
   "cell_type": "code",
   "execution_count": 10,
   "metadata": {
    "button": false,
    "collapsed": true,
    "deletable": true,
    "new_sheet": false,
    "run_control": {
     "read_only": false
    }
   },
   "outputs": [],
   "source": [
    "# Initialize the dataframe, using the edges as the index\n",
    "df = pd.DataFrame(index=G.edges())"
   ]
  },
  {
   "cell_type": "markdown",
   "metadata": {
    "button": false,
    "deletable": true,
    "new_sheet": false,
    "run_control": {
     "read_only": false
    }
   },
   "source": [
    "### Extracting attributes\n",
    "\n",
    "Using `nx.get_edge_attributes`, it's easy to extract the edge attributes in the graph into DataFrame columns."
   ]
  },
  {
   "cell_type": "code",
   "execution_count": 9,
   "metadata": {
    "button": false,
    "collapsed": false,
    "deletable": true,
    "new_sheet": false,
    "run_control": {
     "read_only": false
    },
    "scrolled": true
   },
   "outputs": [
    {
     "data": {
      "text/html": [
       "<div>\n",
       "<style>\n",
       "    .dataframe thead tr:only-child th {\n",
       "        text-align: right;\n",
       "    }\n",
       "\n",
       "    .dataframe thead th {\n",
       "        text-align: left;\n",
       "    }\n",
       "\n",
       "    .dataframe tbody tr th {\n",
       "        vertical-align: top;\n",
       "    }\n",
       "</style>\n",
       "<table border=\"1\" class=\"dataframe\">\n",
       "  <thead>\n",
       "    <tr style=\"text-align: right;\">\n",
       "      <th></th>\n",
       "      <th>weight</th>\n",
       "    </tr>\n",
       "  </thead>\n",
       "  <tbody>\n",
       "    <tr>\n",
       "      <th>(El Paso, TX, Albuquerque, NM)</th>\n",
       "      <td>367.885844</td>\n",
       "    </tr>\n",
       "    <tr>\n",
       "      <th>(El Paso, TX, Mesa, AZ)</th>\n",
       "      <td>536.256660</td>\n",
       "    </tr>\n",
       "    <tr>\n",
       "      <th>(El Paso, TX, Tucson, AZ)</th>\n",
       "      <td>425.413867</td>\n",
       "    </tr>\n",
       "    <tr>\n",
       "      <th>(El Paso, TX, Phoenix, AZ)</th>\n",
       "      <td>558.783570</td>\n",
       "    </tr>\n",
       "    <tr>\n",
       "      <th>(El Paso, TX, Colorado Springs, CO)</th>\n",
       "      <td>797.751712</td>\n",
       "    </tr>\n",
       "  </tbody>\n",
       "</table>\n",
       "</div>"
      ],
      "text/plain": [
       "                                         weight\n",
       "(El Paso, TX, Albuquerque, NM)       367.885844\n",
       "(El Paso, TX, Mesa, AZ)              536.256660\n",
       "(El Paso, TX, Tucson, AZ)            425.413867\n",
       "(El Paso, TX, Phoenix, AZ)           558.783570\n",
       "(El Paso, TX, Colorado Springs, CO)  797.751712"
      ]
     },
     "execution_count": 9,
     "metadata": {},
     "output_type": "execute_result"
    }
   ],
   "source": [
    "df['weight'] = pd.Series(nx.get_edge_attributes(G, 'weight'))\n",
    "\n",
    "df.head()"
   ]
  },
  {
   "cell_type": "markdown",
   "metadata": {
    "button": false,
    "deletable": true,
    "new_sheet": false,
    "run_control": {
     "read_only": false
    }
   },
   "source": [
    "### Creating edge based features\n",
    "\n",
    "Many of the networkx functions related to edges return a nested data structures. We can extract the relevant data using list comprehension."
   ]
  },
  {
   "cell_type": "code",
   "execution_count": 11,
   "metadata": {
    "button": false,
    "collapsed": false,
    "deletable": true,
    "new_sheet": false,
    "run_control": {
     "read_only": false
    }
   },
   "outputs": [
    {
     "data": {
      "text/html": [
       "<div>\n",
       "<style>\n",
       "    .dataframe thead tr:only-child th {\n",
       "        text-align: right;\n",
       "    }\n",
       "\n",
       "    .dataframe thead th {\n",
       "        text-align: left;\n",
       "    }\n",
       "\n",
       "    .dataframe tbody tr th {\n",
       "        vertical-align: top;\n",
       "    }\n",
       "</style>\n",
       "<table border=\"1\" class=\"dataframe\">\n",
       "  <thead>\n",
       "    <tr style=\"text-align: right;\">\n",
       "      <th></th>\n",
       "      <th>weight</th>\n",
       "      <th>preferential attachment</th>\n",
       "    </tr>\n",
       "  </thead>\n",
       "  <tbody>\n",
       "    <tr>\n",
       "      <th>(El Paso, TX, Albuquerque, NM)</th>\n",
       "      <td>367.885844</td>\n",
       "      <td>35</td>\n",
       "    </tr>\n",
       "    <tr>\n",
       "      <th>(El Paso, TX, Mesa, AZ)</th>\n",
       "      <td>536.256660</td>\n",
       "      <td>40</td>\n",
       "    </tr>\n",
       "    <tr>\n",
       "      <th>(El Paso, TX, Tucson, AZ)</th>\n",
       "      <td>425.413867</td>\n",
       "      <td>40</td>\n",
       "    </tr>\n",
       "    <tr>\n",
       "      <th>(El Paso, TX, Phoenix, AZ)</th>\n",
       "      <td>558.783570</td>\n",
       "      <td>45</td>\n",
       "    </tr>\n",
       "    <tr>\n",
       "      <th>(El Paso, TX, Colorado Springs, CO)</th>\n",
       "      <td>797.751712</td>\n",
       "      <td>30</td>\n",
       "    </tr>\n",
       "  </tbody>\n",
       "</table>\n",
       "</div>"
      ],
      "text/plain": [
       "                                         weight  preferential attachment\n",
       "(El Paso, TX, Albuquerque, NM)       367.885844                       35\n",
       "(El Paso, TX, Mesa, AZ)              536.256660                       40\n",
       "(El Paso, TX, Tucson, AZ)            425.413867                       40\n",
       "(El Paso, TX, Phoenix, AZ)           558.783570                       45\n",
       "(El Paso, TX, Colorado Springs, CO)  797.751712                       30"
      ]
     },
     "execution_count": 11,
     "metadata": {},
     "output_type": "execute_result"
    }
   ],
   "source": [
    "df['preferential attachment'] = [i[2] for i in nx.preferential_attachment(G, df.index)]\n",
    "df.head()"
   ]
  },
  {
   "cell_type": "markdown",
   "metadata": {
    "button": false,
    "deletable": true,
    "new_sheet": false,
    "run_control": {
     "read_only": false
    }
   },
   "source": [
    "In the case where the function expects two nodes to be passed in, we can map the index to a lamda function."
   ]
  },
  {
   "cell_type": "code",
   "execution_count": 12,
   "metadata": {
    "button": false,
    "collapsed": false,
    "deletable": true,
    "new_sheet": false,
    "run_control": {
     "read_only": false
    }
   },
   "outputs": [
    {
     "data": {
      "text/html": [
       "<div>\n",
       "<style>\n",
       "    .dataframe thead tr:only-child th {\n",
       "        text-align: right;\n",
       "    }\n",
       "\n",
       "    .dataframe thead th {\n",
       "        text-align: left;\n",
       "    }\n",
       "\n",
       "    .dataframe tbody tr th {\n",
       "        vertical-align: top;\n",
       "    }\n",
       "</style>\n",
       "<table border=\"1\" class=\"dataframe\">\n",
       "  <thead>\n",
       "    <tr style=\"text-align: right;\">\n",
       "      <th></th>\n",
       "      <th>weight</th>\n",
       "      <th>preferential attachment</th>\n",
       "      <th>Common Neighbors</th>\n",
       "    </tr>\n",
       "  </thead>\n",
       "  <tbody>\n",
       "    <tr>\n",
       "      <th>(El Paso, TX, Albuquerque, NM)</th>\n",
       "      <td>367.885844</td>\n",
       "      <td>35</td>\n",
       "      <td>4</td>\n",
       "    </tr>\n",
       "    <tr>\n",
       "      <th>(El Paso, TX, Mesa, AZ)</th>\n",
       "      <td>536.256660</td>\n",
       "      <td>40</td>\n",
       "      <td>3</td>\n",
       "    </tr>\n",
       "    <tr>\n",
       "      <th>(El Paso, TX, Tucson, AZ)</th>\n",
       "      <td>425.413867</td>\n",
       "      <td>40</td>\n",
       "      <td>3</td>\n",
       "    </tr>\n",
       "    <tr>\n",
       "      <th>(El Paso, TX, Phoenix, AZ)</th>\n",
       "      <td>558.783570</td>\n",
       "      <td>45</td>\n",
       "      <td>3</td>\n",
       "    </tr>\n",
       "    <tr>\n",
       "      <th>(El Paso, TX, Colorado Springs, CO)</th>\n",
       "      <td>797.751712</td>\n",
       "      <td>30</td>\n",
       "      <td>1</td>\n",
       "    </tr>\n",
       "  </tbody>\n",
       "</table>\n",
       "</div>"
      ],
      "text/plain": [
       "                                         weight  preferential attachment  \\\n",
       "(El Paso, TX, Albuquerque, NM)       367.885844                       35   \n",
       "(El Paso, TX, Mesa, AZ)              536.256660                       40   \n",
       "(El Paso, TX, Tucson, AZ)            425.413867                       40   \n",
       "(El Paso, TX, Phoenix, AZ)           558.783570                       45   \n",
       "(El Paso, TX, Colorado Springs, CO)  797.751712                       30   \n",
       "\n",
       "                                     Common Neighbors  \n",
       "(El Paso, TX, Albuquerque, NM)                      4  \n",
       "(El Paso, TX, Mesa, AZ)                             3  \n",
       "(El Paso, TX, Tucson, AZ)                           3  \n",
       "(El Paso, TX, Phoenix, AZ)                          3  \n",
       "(El Paso, TX, Colorado Springs, CO)                 1  "
      ]
     },
     "execution_count": 12,
     "metadata": {},
     "output_type": "execute_result"
    }
   ],
   "source": [
    "df['Common Neighbors'] = df.index.map(lambda city: len(list(nx.common_neighbors(G, city[0], city[1]))))\n",
    "df.head()"
   ]
  },
  {
   "cell_type": "code",
   "execution_count": null,
   "metadata": {
    "button": false,
    "collapsed": true,
    "deletable": true,
    "new_sheet": false,
    "run_control": {
     "read_only": false
    }
   },
   "outputs": [],
   "source": []
  }
 ],
 "metadata": {
  "kernelspec": {
   "display_name": "Python 3",
   "language": "python",
   "name": "python3"
  },
  "language_info": {
   "codemirror_mode": {
    "name": "ipython",
    "version": 3
   },
   "file_extension": ".py",
   "mimetype": "text/x-python",
   "name": "python",
   "nbconvert_exporter": "python",
   "pygments_lexer": "ipython3",
   "version": "3.5.0"
  }
 },
 "nbformat": 4,
 "nbformat_minor": 2
}

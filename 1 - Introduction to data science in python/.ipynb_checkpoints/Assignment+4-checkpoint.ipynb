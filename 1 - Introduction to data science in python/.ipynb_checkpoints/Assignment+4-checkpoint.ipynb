{
 "cells": [
  {
   "cell_type": "markdown",
   "metadata": {},
   "source": [
    "---\n",
    "\n",
    "_You are currently looking at **version 1.1** of this notebook. To download notebooks and datafiles, as well as get help on Jupyter notebooks in the Coursera platform, visit the [Jupyter Notebook FAQ](https://www.coursera.org/learn/python-data-analysis/resources/0dhYG) course resource._\n",
    "\n",
    "---"
   ]
  },
  {
   "cell_type": "code",
   "execution_count": 69,
   "metadata": {},
   "outputs": [],
   "source": [
    "import pandas as pd\n",
    "import numpy as np\n",
    "from scipy.stats import ttest_ind\n",
    "import re"
   ]
  },
  {
   "cell_type": "code",
   "execution_count": 70,
   "metadata": {},
   "outputs": [],
   "source": [
    "def print_full(df):\n",
    "    pd.set_option('display.max_rows', len(df))\n",
    "    display(df)\n",
    "    pd.reset_option('display.max_rows')"
   ]
  },
  {
   "cell_type": "markdown",
   "metadata": {},
   "source": [
    "# Assignment 4 - Hypothesis Testing\n",
    "This assignment requires more individual learning than previous assignments - you are encouraged to check out the [pandas documentation](http://pandas.pydata.org/pandas-docs/stable/) to find functions or methods you might not have used yet, or ask questions on [Stack Overflow](http://stackoverflow.com/) and tag them as pandas and python related. And of course, the discussion forums are open for interaction with your peers and the course staff.\n",
    "\n",
    "Definitions:\n",
    "* A _quarter_ is a specific three month period, Q1 is January through March, Q2 is April through June, Q3 is July through September, Q4 is October through December.\n",
    "* A _recession_ is defined as starting with two consecutive quarters of GDP decline, and ending with two consecutive quarters of GDP growth.\n",
    "* A _recession bottom_ is the quarter within a recession which had the lowest GDP.\n",
    "* A _university town_ is a city which has a high percentage of university students compared to the total population of the city.\n",
    "\n",
    "**Hypothesis**: University towns have their mean housing prices less effected by recessions. Run a t-test to compare the ratio of the mean price of houses in university towns the quarter before the recession starts compared to the recession bottom. (`price_ratio=quarter_before_recession/recession_bottom`)\n",
    "\n",
    "The following data files are available for this assignment:\n",
    "* From the [Zillow research data site](http://www.zillow.com/research/data/) there is housing data for the United States. In particular the datafile for [all homes at a city level](http://files.zillowstatic.com/research/public/City/City_Zhvi_AllHomes.csv), ```City_Zhvi_AllHomes.csv```, has median home sale prices at a fine grained level.\n",
    "* From the Wikipedia page on college towns is a list of [university towns in the United States](https://en.wikipedia.org/wiki/List_of_college_towns#College_towns_in_the_United_States) which has been copy and pasted into the file ```university_towns.txt```.\n",
    "* From Bureau of Economic Analysis, US Department of Commerce, the [GDP over time](http://www.bea.gov/national/index.htm#gdp) of the United States in current dollars (use the chained value in 2009 dollars), in quarterly intervals, in the file ```gdplev.xls```. For this assignment, only look at GDP data from the first quarter of 2000 onward.\n",
    "\n",
    "Each function in this assignment below is worth 10%, with the exception of ```run_ttest()```, which is worth 50%."
   ]
  },
  {
   "cell_type": "code",
   "execution_count": 71,
   "metadata": {},
   "outputs": [],
   "source": [
    "# Use this dictionary to map state names to two letter acronyms\n",
    "states = {'OH': 'Ohio', 'KY': 'Kentucky', 'AS': 'American Samoa', 'NV': 'Nevada', 'WY': 'Wyoming', 'NA': 'National', 'AL': 'Alabama', 'MD': 'Maryland', 'AK': 'Alaska', 'UT': 'Utah', 'OR': 'Oregon', 'MT': 'Montana', 'IL': 'Illinois', 'TN': 'Tennessee', 'DC': 'District of Columbia', 'VT': 'Vermont', 'ID': 'Idaho', 'AR': 'Arkansas', 'ME': 'Maine', 'WA': 'Washington', 'HI': 'Hawaii', 'WI': 'Wisconsin', 'MI': 'Michigan', 'IN': 'Indiana', 'NJ': 'New Jersey', 'AZ': 'Arizona', 'GU': 'Guam', 'MS': 'Mississippi', 'PR': 'Puerto Rico', 'NC': 'North Carolina', 'TX': 'Texas', 'SD': 'South Dakota', 'MP': 'Northern Mariana Islands', 'IA': 'Iowa', 'MO': 'Missouri', 'CT': 'Connecticut', 'WV': 'West Virginia', 'SC': 'South Carolina', 'LA': 'Louisiana', 'KS': 'Kansas', 'NY': 'New York', 'NE': 'Nebraska', 'OK': 'Oklahoma', 'FL': 'Florida', 'CA': 'California', 'CO': 'Colorado', 'PA': 'Pennsylvania', 'DE': 'Delaware', 'NM': 'New Mexico', 'RI': 'Rhode Island', 'MN': 'Minnesota', 'VI': 'Virgin Islands', 'NH': 'New Hampshire', 'MA': 'Massachusetts', 'GA': 'Georgia', 'ND': 'North Dakota', 'VA': 'Virginia'}"
   ]
  },
  {
   "cell_type": "code",
   "execution_count": 72,
   "metadata": {
    "umich_part_id": "021",
    "umich_partlist_id": "004"
   },
   "outputs": [],
   "source": [
    "def get_list_of_university_towns():\n",
    "    '''Returns a DataFrame of towns and the states they are in from the \n",
    "    university_towns.txt list. The format of the DataFrame should be:\n",
    "    DataFrame( [ [\"Michigan\", \"Ann Arbor\"], [\"Michigan\", \"Yipsilanti\"] ], \n",
    "    columns=[\"State\", \"RegionName\"]  )\n",
    "    \n",
    "    The following cleaning needs to be done:\n",
    "\n",
    "    1. For \"State\", removing characters from \"[\" to the end.\n",
    "    2. For \"RegionName\", when applicable, removing every character from \" (\" to the end.\n",
    "    3. Depending on how you read the data, you may need to remove newline character '\\n'. '''\n",
    "    \n",
    "    \n",
    "    uni_towns = pd.read_fwf('data/university_towns.txt', header=None, names=['State', 'RegionName'])\n",
    "    uni_towns['RegionName'] = uni_towns['State']\n",
    "    #solo dejar los nombres de estado en la columna 'State'\n",
    "    uni_towns['State'].where(uni_towns['RegionName'].str.contains('[edit]', regex=False), inplace=True)\n",
    "    #itertuples() is faster, but irrelevant here\n",
    "    current_state = ''\n",
    "    list_drop = []\n",
    "    for index, row in uni_towns.iterrows():\n",
    "        if type(row['State']) == str: \n",
    "            current_state = row['State']\n",
    "            #armar lista de filas a remover luego\n",
    "            list_drop.append(index)\n",
    "            #Sacar edit de State\n",
    "            current_state = current_state.replace('[edit]','')\n",
    "        else:\n",
    "            #Copiar el estado hasta en todas las filas que corresponde\n",
    "            uni_towns['State'].iloc[index] = current_state\n",
    "            #Remover\n",
    "            uni_towns['RegionName'].iloc[index] = re.sub('\\s\\(.+', '', uni_towns['RegionName'].iloc[index])\n",
    "    \n",
    "    #uni_towns['State'] = uni_towns['State'].map(states)\n",
    "    uni_towns.drop(index=list_drop, axis=0, inplace=True)\n",
    "    return uni_towns"
   ]
  },
  {
   "cell_type": "code",
   "execution_count": 73,
   "metadata": {
    "umich_part_id": "022",
    "umich_partlist_id": "004"
   },
   "outputs": [],
   "source": [
    "def get_recession_start():\n",
    "    '''Returns the year and quarter of the recession start time as a \n",
    "    string value in a format such as 2005q3'''\n",
    "    gdp = pd.read_excel('data/gdplev.xls', header=5,skiprows=214, names=['Quarter','GDP'],\n",
    "                    usecols=[4,6] )\n",
    "    #adding columns with diff and derivative (using diff only right now)\n",
    "    gdp['GDP_diff'], gdp['GDP_deriv'] = gdp['GDP'].diff(), np.gradient(gdp['GDP'])\n",
    "    #gdp.plot()\n",
    "    #rows whose difference is negative\n",
    "    gdp_neg = gdp[gdp['GDP_diff'] < 0]\n",
    "    #find indexes of consecutive negative gdp\n",
    "    gdp_neg_idx = [gdp_neg.index[i] for i in range(len(gdp_neg.index)-1) if gdp_neg.index[i+1]-gdp_neg.index[i]==1]\n",
    "    \n",
    "    return gdp['Quarter'][gdp_neg_idx[0]]\n"
   ]
  },
  {
   "cell_type": "code",
   "execution_count": 86,
   "metadata": {
    "umich_part_id": "023",
    "umich_partlist_id": "004"
   },
   "outputs": [],
   "source": [
    "def get_recession_end():\n",
    "    '''Returns the year and quarter of the recession end time as a \n",
    "    string value in a format such as 2005q3'''\n",
    "    gdp = pd.read_excel('data/gdplev.xls', header=5,skiprows=214, names=['Quarter','GDP'],\n",
    "                    usecols=[4,6] )\n",
    "    #adding columns with diff and derivative (using diff only right now)\n",
    "    gdp['GDP_diff'], gdp['data/GDP_deriv'] = gdp['GDP'].diff(), np.gradient(gdp['GDP'])\n",
    "\n",
    "    rec_start_quarter = get_recession_start()\n",
    "    rec_start_idx = gdp[gdp['Quarter'] == rec_start_quarter].index[0]\n",
    "    #GDP with diff > 0, starting from recession quarter\n",
    "    gdp_pos = gdp[gdp['GDP_diff'] > 0].loc[rec_start_idx:]\n",
    "    \n",
    "    \n",
    "    #By definition, a recession ending is two consecutive quarters of GDP growth. \n",
    "    #So let's take the 2nd row     \n",
    "    return gdp_pos.iloc[1][0]\n"
   ]
  },
  {
   "cell_type": "code",
   "execution_count": 85,
   "metadata": {
    "umich_part_id": "024",
    "umich_partlist_id": "004"
   },
   "outputs": [],
   "source": [
    "def get_recession_bottom():\n",
    "    '''Returns the year and quarter of the recession bottom time as a \n",
    "    string value in a format such as 2005q3'''\n",
    "    #read xls\n",
    "    gdp = pd.read_excel('data/gdplev.xls', header=5,skiprows=214, names=['Quarter','GDP'],\n",
    "                    usecols=[4,6] )\n",
    "    #adding columns with diff and derivative (using diff only right now)\n",
    "    #gdp['GDP_diff'], gdp['GDP_deriv'] = gdp['GDP'].diff(), np.gradient(gdp['GDP'])\n",
    "    rec_start_quarter = get_recession_start()\n",
    "    rec_start_idx = gdp[gdp['Quarter'] == rec_start_quarter].index[0]\n",
    "    rec_end_quarter = get_recession_end()\n",
    "    rec_end_idx = gdp[gdp['Quarter'] == rec_end_quarter].index[0]\n",
    "    bottom_idx = gdp.iloc[rec_start_idx:rec_end_idx+1]['GDP'].idxmin()\n",
    "    \n",
    "    return gdp['Quarter'].iloc[bottom_idx]"
   ]
  },
  {
   "cell_type": "code",
   "execution_count": 76,
   "metadata": {
    "umich_part_id": "025",
    "umich_partlist_id": "004"
   },
   "outputs": [],
   "source": [
    "def convert_housing_data_to_quarters():\n",
    "    '''Converts the housing data to quarters and returns it as mean \n",
    "    values in a dataframe. This dataframe should be a dataframe with\n",
    "    columns for 2000q1 through 2016q3, and should have a multi-index\n",
    "    in the shape of [\"State\",\"RegionName\"].\n",
    "    \n",
    "    Note: Quarters are defined in the assignment description, they are\n",
    "    not arbitrary three month periods.\n",
    "    \n",
    "    The resulting dataframe should have 67 columns, and 10,730 rows.\n",
    "    '''\n",
    "    houses = pd.read_csv('data/City_Zhvi_AllHomes.csv',encoding = \"ISO-8859-1\")\n",
    "    houses['State'] = houses['State'].map(states)\n",
    "    houses.set_index([\"State\",\"RegionName\"], inplace=True)\n",
    "    houses.sort_index(inplace=True)\n",
    "    \n",
    "    houses_sel = houses.loc[:,'2000-01':'2016-08']\n",
    "    #convertir a datetime porque resample lo requiere\n",
    "    houses_sel.columns = pd.to_datetime(houses_sel.columns, infer_datetime_format=True)\n",
    "\n",
    "    #resample a quarters y mean\n",
    "    houses_sel = houses_sel.resample('Q',axis=1).mean()\n",
    "    #rename de nombre de columnas\n",
    "    houses_sel.columns = pd.PeriodIndex(pd.to_datetime(houses_sel.columns), freq='Q')\n",
    "    houses_sel.columns = houses_sel.columns.to_series().astype(str)\n",
    "    houses_sel.rename(columns=lambda x: x.lower(), inplace = True)\n",
    "    \n",
    "    return houses_sel"
   ]
  },
  {
   "cell_type": "code",
   "execution_count": 92,
   "metadata": {
    "umich_part_id": "026",
    "umich_partlist_id": "004"
   },
   "outputs": [
    {
     "data": {
      "text/plain": [
       "(True, 7.417614191647064e-05, 'university town')"
      ]
     },
     "execution_count": 92,
     "metadata": {},
     "output_type": "execute_result"
    }
   ],
   "source": [
    "def run_ttest():\n",
    "    '''First creates new data showing the decline or growth of housing prices\n",
    "    between the recession start and the recession bottom. Then runs a ttest\n",
    "    comparing the university town values to the non-university towns values, \n",
    "    return whether the alternative hypothesis (that the two groups are the same)\n",
    "    is true or not as well as the p-value of the confidence. \n",
    "    \n",
    "    Return the tuple (different, p, better) where different=True if the t-test is\n",
    "    True at a p<0.01 (we reject the null hypothesis), or different=False if \n",
    "    otherwise (we cannot reject the null hypothesis). The variable p should\n",
    "    be equal to the exact p value returned from scipy.stats.ttest_ind(). The\n",
    "    value for better should be either \"university town\" or \"non-university town\"\n",
    "    depending on which has a lower mean price ratio (which is equivilent to a\n",
    "    reduced market loss).'''\n",
    "    unitowns = get_list_of_university_towns()\n",
    "    bottom = get_recession_bottom()\n",
    "    start = get_recession_start()\n",
    "    hdata = convert_housing_data_to_quarters()\n",
    "    bstart = hdata.columns[hdata.columns.get_loc(start) -1]\n",
    "    \n",
    "    hdata['ratio'] = hdata[bottom] - hdata[bstart]\n",
    "    hdata = hdata[[bottom,bstart,'ratio']]\n",
    "    hdata = hdata.reset_index()\n",
    "    unitowns_hdata = pd.merge(hdata,unitowns,how='inner',on=['State','RegionName'])\n",
    "    unitowns_hdata['uni'] = True\n",
    "    hdata2 = pd.merge(hdata,unitowns_hdata,how='outer',on=['State','RegionName',bottom,bstart,'ratio'])\n",
    "    hdata2['uni'] = hdata2['uni'].fillna(False)\n",
    "\n",
    "    ut = hdata2[hdata2['uni'] == True]\n",
    "    nut = hdata2[hdata2['uni'] == False]\n",
    "\n",
    "    t,p = ttest_ind(ut['ratio'].dropna(),nut['ratio'].dropna())\n",
    "    \n",
    "    different = True if p < 0.01 else False\n",
    "\n",
    "    better = \"non-university town\" if ut['ratio'].mean() < nut['ratio'].mean() else \"university town\"\n",
    "\n",
    "    return different, p, better\n",
    "run_ttest()"
   ]
  },
  {
   "cell_type": "code",
   "execution_count": null,
   "metadata": {},
   "outputs": [],
   "source": []
  }
 ],
 "metadata": {
  "coursera": {
   "course_slug": "python-data-analysis",
   "graded_item_id": "Il9Fx",
   "launcher_item_id": "TeDW0",
   "part_id": "WGlun"
  },
  "kernelspec": {
   "display_name": "Python 3",
   "language": "python",
   "name": "python3"
  },
  "language_info": {
   "codemirror_mode": {
    "name": "ipython",
    "version": 3
   },
   "file_extension": ".py",
   "mimetype": "text/x-python",
   "name": "python",
   "nbconvert_exporter": "python",
   "pygments_lexer": "ipython3",
   "version": "3.7.3"
  },
  "toc": {
   "base_numbering": 1,
   "nav_menu": {},
   "number_sections": true,
   "sideBar": true,
   "skip_h1_title": false,
   "title_cell": "Table of Contents",
   "title_sidebar": "Contents",
   "toc_cell": false,
   "toc_position": {},
   "toc_section_display": true,
   "toc_window_display": false
  },
  "umich": {
   "id": "Assignment 4",
   "version": "1.1"
  },
  "varInspector": {
   "cols": {
    "lenName": 16,
    "lenType": 16,
    "lenVar": 40
   },
   "kernels_config": {
    "python": {
     "delete_cmd_postfix": "",
     "delete_cmd_prefix": "del ",
     "library": "var_list.py",
     "varRefreshCmd": "print(var_dic_list())"
    },
    "r": {
     "delete_cmd_postfix": ") ",
     "delete_cmd_prefix": "rm(",
     "library": "var_list.r",
     "varRefreshCmd": "cat(var_dic_list()) "
    }
   },
   "types_to_exclude": [
    "module",
    "function",
    "builtin_function_or_method",
    "instance",
    "_Feature"
   ],
   "window_display": false
  }
 },
 "nbformat": 4,
 "nbformat_minor": 1
}
